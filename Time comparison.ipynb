{
 "metadata": {
  "name": "",
  "signature": "sha256:fc893ccc805d43830deda9fbc155a11616658ff88541bfe06cc050ffc4b93b61"
 },
 "nbformat": 3,
 "nbformat_minor": 0,
 "worksheets": [
  {
   "cells": [
    {
     "cell_type": "raw",
     "metadata": {},
     "source": [
      "Initialize variables..."
     ]
    },
    {
     "cell_type": "code",
     "collapsed": false,
     "input": [
      "import pandas\n",
      "import matplotlib\n",
      "import matplotlib.pyplot as plt\n",
      "\n",
      "import math\n",
      "from pandas import DataFrame\n",
      "\n",
      "from scipy.stats import t\n",
      "x = [10, 20, 30, 40, 50, 60, 70, 80, 90, 100, 110, 120, 130, 140, 150, 160, 170, 180, 190, 200]\n",
      "xbarbosa = []\n",
      "xbusom = []\n",
      "xmclaughlin = []\n",
      "for c in x:\n",
      "    xbarbosa.append(c - 2)\n",
      "    xbusom.append(c)\n",
      "    xmclaughlin.append(c + 2)\n",
      "\n",
      "y_sm_garcia = []\n",
      "y_sm_barbosa = []\n",
      "y_sm_erkin = []\n",
      "y_sm_busom = []\n",
      "y_sm_mclaughlin = []\n",
      "yerr_sm_garcia = []\n",
      "yerr_sm_barbosa = []\n",
      "yerr_sm_erkin = []\n",
      "yerr_sm_busom = []\n",
      "yerr_sm_mclaughlin = []\n",
      "\n",
      "sm_garcia = pandas.read_csv(\"garcia/sm_dataset.csv\", sep=\" \", header=0, index_col=0).as_matrix()\n",
      "sm_barbosa = pandas.read_csv(\"barbosa/sm_dataset.csv\", sep=\" \", header=0, index_col=0).as_matrix()\n",
      "sm_erkin = pandas.read_csv(\"erkin/sm_dataset.csv\", sep=\" \", header=0, index_col=0).as_matrix()\n",
      "sm_busom = pandas.read_csv(\"busom/sm_dataset.csv\", sep=\" \", header=0, index_col=0).as_matrix()\n",
      "sm_mclaughlin = pandas.read_csv(\"mclaughlin/sm_dataset.csv\", sep=\" \", header=0, index_col=0).as_matrix()\n",
      "\n",
      "for i in range(0, 20):\n",
      "    values_garcia = sm_garcia[:, i]\n",
      "    y_sm_garcia.append(values_garcia.mean())\n",
      "    yerr_sm_garcia.append(t.ppf(0.975, len(values_garcia)) * values_garcia.std() / math.sqrt(len(values_garcia)+1))\n",
      "    \n",
      "    values_barbosa = sm_barbosa[:, i]\n",
      "    y_sm_barbosa.append(values_barbosa.mean())\n",
      "    yerr_sm_barbosa.append(t.ppf(0.975, len(values_barbosa)) * values_barbosa.std() / math.sqrt(len(values_barbosa)+1))\n",
      "    \n",
      "    values_erkin = sm_erkin[:, i]\n",
      "    y_sm_erkin.append(values_erkin.mean())\n",
      "    yerr_sm_erkin.append(t.ppf(0.975, len(values_erkin)) * values_erkin.std() / math.sqrt(len(values_erkin)+1))\n",
      "    \n",
      "    values_busom = sm_busom[:,i]\n",
      "    y_sm_busom.append(values_busom.mean())\n",
      "    yerr_sm_busom.append(t.ppf(0.975, len(values_busom)) * values_busom.std() / math.sqrt(len(values_busom)+1))\n",
      "    \n",
      "    values_mclaughlin = sm_mclaughlin[:,i]\n",
      "    y_sm_mclaughlin.append(values_mclaughlin.mean())\n",
      "    yerr_sm_mclaughlin.append(t.ppf(0.975, len(values_mclaughlin)) * values_mclaughlin.std() / math.sqrt(len(values_mclaughlin)+1))"
     ],
     "language": "python",
     "metadata": {},
     "outputs": [],
     "prompt_number": 1
    },
    {
     "cell_type": "raw",
     "metadata": {},
     "source": [
      "Generate graphs for Smart meter time comparison..."
     ]
    },
    {
     "cell_type": "code",
     "collapsed": false,
     "input": [
      "plt.plot(x, y_sm_garcia, '^', color=('purple'), linewidth=3, markersize=10)\n",
      "plt.plot(xbarbosa, y_sm_barbosa, 's', color=('red'), linewidth=3, markersize=10)\n",
      "plt.plot(x, y_sm_erkin, '*', color=('green'), linewidth=3, markersize=10)\n",
      "plt.plot(xbusom, y_sm_busom, 'D', color=('darkgrey'), linewidth=3, markersize=10)\n",
      "plt.plot(xmclaughlin, y_sm_mclaughlin, 'o', color=('blue'), linewidth=3, markersize=10)\n",
      "\n",
      "plt.rc('ytick', labelsize=30)\n",
      "plt.rc('xtick', labelsize=30)\n",
      "plt.rc('legend', fontsize=20)\n",
      "\n",
      "plt.xlabel(\"Number of Users (N)\", fontsize=35)\n",
      "plt.ylabel(\"Time (Seconds)\", fontsize=35)\n",
      "plt.legend([\"Garcia\", \"Barbosa\", \"Erkin\", \"Busom\", \"McLaughlin\"], bbox_to_anchor=(0.28,1))\n",
      "plt.title(\"Meters Time Comparison\", fontsize=40)\n",
      "\n",
      "plt.gca().grid(True, axis='y')\n",
      "\n",
      "plt.show()"
     ],
     "language": "python",
     "metadata": {},
     "outputs": [],
     "prompt_number": 2
    },
    {
     "cell_type": "code",
     "collapsed": false,
     "input": [
      "y_ag_garcia = []\n",
      "y_ag_barbosa = []\n",
      "y_ag_erkin = []\n",
      "y_ag_busom = []\n",
      "y_ag_mclaughlin = []\n",
      "yerr_ag_garcia = []\n",
      "yerr_ag_barbosa = []\n",
      "yerr_ag_erkin = []\n",
      "yerr_ag_busom = []\n",
      "yerr_ag_mclaughlin = []\n",
      "\n",
      "ag_garcia = pandas.read_csv(\"garcia/ag_dataset.csv\", sep=\" \", header=0, index_col=0).as_matrix()\n",
      "ag_barbosa = pandas.read_csv(\"barbosa/ag_dataset.csv\", sep=\" \", header=0, index_col=0).as_matrix()\n",
      "ag_erkin = pandas.read_csv(\"erkin/ag_dataset.csv\", sep=\" \", header=0, index_col=0).as_matrix()\n",
      "ag_busom = pandas.read_csv(\"busom/ag_dataset.csv\", sep=\" \", header=0, index_col=0).as_matrix()\n",
      "ag_mclaughlin = pandas.read_csv(\"mclaughlin/ag_dataset.csv\", sep=\" \", header=0, index_col=0).as_matrix()\n",
      "\n",
      "for i in range(0, 20):\n",
      "    values_garcia = ag_garcia[:, i]\n",
      "    y_ag_garcia.append(values_garcia.mean())\n",
      "    yerr_ag_garcia.append(t.ppf(0.975, len(values_garcia)) * values_garcia.std() / math.sqrt(len(values_garcia)+1))\n",
      "    \n",
      "    values_barbosa = ag_barbosa[:, i]\n",
      "    y_ag_barbosa.append(values_barbosa.mean())\n",
      "    yerr_ag_barbosa.append(t.ppf(0.975, len(values_barbosa)) * values_barbosa.std() / math.sqrt(len(values_barbosa)+1))\n",
      "    \n",
      "    values_erkin = ag_erkin[:, i]\n",
      "    y_ag_erkin.append(values_erkin.mean())\n",
      "    yerr_ag_erkin.append(t.ppf(0.975, len(values_erkin)) * values_erkin.std() / math.sqrt(len(values_erkin)+1))\n",
      "    \n",
      "    values_busom = ag_busom[:, i]\n",
      "    y_ag_busom.append(values_busom.mean())\n",
      "    yerr_ag_busom.append(t.ppf(0.975, len(values_busom)) * values_busom.std() / math.sqrt(len(values_busom)+1))\n",
      "    \n",
      "    values_mclaughlin = ag_mclaughlin[:, i]\n",
      "    y_ag_mclaughlin.append(values_mclaughlin.mean())\n",
      "    yerr_ag_mclaughlin.append(t.ppf(0.975, len(values_mclaughlin)) * values_mclaughlin.std() / math.sqrt(len(values_mclaughlin)+1))"
     ],
     "language": "python",
     "metadata": {},
     "outputs": [],
     "prompt_number": 3
    },
    {
     "cell_type": "code",
     "collapsed": false,
     "input": [
      "plt.plot(x, y_ag_garcia, '^', color=('purple'), linewidth=3, markersize=10)\n",
      "plt.plot(xbarbosa, y_ag_barbosa, 's', color=('red'), linewidth=3, markersize=10)\n",
      "plt.plot(x, y_ag_erkin, '*', color=('green'), linewidth=3, markersize=10)\n",
      "plt.errorbar(x, y_ag_busom, yerr=yerr_ag_busom, fmt='D', ecolor='black', capsize=10, elinewidth=4, color=('darkgrey'), markersize=10)\n",
      "plt.plot(xmclaughlin, y_ag_mclaughlin, 'o', color=('blue'), markersize=10)\n",
      "\n",
      "plt.rc('ytick', labelsize=30)\n",
      "plt.rc('xtick', labelsize=30)\n",
      "plt.rc('legend', fontsize=20)\n",
      "\n",
      "plt.xlabel(\"Number of Users (N)\", fontsize=35)\n",
      "plt.ylabel(\"Time (Seconds)\", fontsize=35)\n",
      "plt.legend([\"Garcia\", \"Barbosa\", \"Erkin\", \"Busom\", \"McLaughlin\"], bbox_to_anchor=(0.28,1))\n",
      "plt.title(\"Aggregator Time Comparison\", fontsize=40)\n",
      "plt.gca().grid(True, axis='y')\n",
      "\n",
      "plt.show()"
     ],
     "language": "python",
     "metadata": {},
     "outputs": [],
     "prompt_number": 4
    },
    {
     "cell_type": "raw",
     "metadata": {},
     "source": [
      "Generate graphs for Aggregator time comparison..."
     ]
    },
    {
     "cell_type": "code",
     "collapsed": false,
     "input": [],
     "language": "python",
     "metadata": {},
     "outputs": [],
     "prompt_number": 6
    },
    {
     "cell_type": "code",
     "collapsed": false,
     "input": [],
     "language": "python",
     "metadata": {},
     "outputs": []
    }
   ],
   "metadata": {}
  }
 ]
}